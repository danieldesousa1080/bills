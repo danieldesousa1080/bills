{
 "cells": [
  {
   "cell_type": "markdown",
   "metadata": {},
   "source": [
    "## Analisando dados?"
   ]
  },
  {
   "cell_type": "code",
   "execution_count": 11,
   "metadata": {},
   "outputs": [],
   "source": [
    "## importando dados\n",
    "from database1 import *"
   ]
  },
  {
   "cell_type": "code",
   "execution_count": 12,
   "metadata": {},
   "outputs": [
    {
     "name": "stdout",
     "output_type": "stream",
     "text": [
      "COML DAHANA LTDA SN 424\n",
      "Quantidade de produtos comprados: 45\n",
      "Soma de todos os produtos comprados: 466.51000000000016\n",
      "média de preço R$ 10.366888888888893\n",
      "confiabilidade dos resultados: 0.45\n",
      "\n",
      "DMA DISTRIBUIDORA S/A\n",
      "Quantidade de produtos comprados: 22\n",
      "Soma de todos os produtos comprados: 218.97\n",
      "média de preço R$ 9.953181818181818\n",
      "confiabilidade dos resultados: 0.22\n",
      "\n"
     ]
    }
   ],
   "source": [
    "## calcular a média de preço dos estabelecimentos e descobrir qual é o mais barato\n",
    "\n",
    "for estabelecimento in estabelecimentos.find():\n",
    "    id = estabelecimento[\"_id\"]\n",
    "    sum = 0\n",
    "    qtt = 0\n",
    "\n",
    "    for compra in compras.find({\"id_estabelecimento\": {\"$eq\": id}}):\n",
    "        id_compra = compra[\"_id\"]\n",
    "        for produto in produtos.find({\"id_compra\": {\"$eq\": id_compra}}):\n",
    "            sum += produto[\"valor\"]\n",
    "            qtt+=1\n",
    "    print(estabelecimento[\"nome\"])\n",
    "    print(f\"Quantidade de produtos comprados: {qtt}\")\n",
    "    print(f\"Soma de todos os produtos comprados: {sum}\")\n",
    "    print(f\"média de preço R$ {sum / qtt}\")\n",
    "    print(f\"confiabilidade dos resultados: {qtt / 100}\")\n",
    "    print()"
   ]
  }
 ],
 "metadata": {
  "kernelspec": {
   "display_name": ".venv",
   "language": "python",
   "name": "python3"
  },
  "language_info": {
   "codemirror_mode": {
    "name": "ipython",
    "version": 3
   },
   "file_extension": ".py",
   "mimetype": "text/x-python",
   "name": "python",
   "nbconvert_exporter": "python",
   "pygments_lexer": "ipython3",
   "version": "3.12.3"
  }
 },
 "nbformat": 4,
 "nbformat_minor": 2
}
